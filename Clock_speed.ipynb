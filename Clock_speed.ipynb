{
  "nbformat": 4,
  "nbformat_minor": 0,
  "metadata": {
    "colab": {
      "provenance": [],
      "authorship_tag": "ABX9TyNK0u22GMDVjPOrQSaTsH51",
      "include_colab_link": true
    },
    "kernelspec": {
      "name": "ir",
      "display_name": "R"
    },
    "language_info": {
      "name": "R"
    }
  },
  "cells": [
    {
      "cell_type": "markdown",
      "metadata": {
        "id": "view-in-github",
        "colab_type": "text"
      },
      "source": [
        "<a href=\"https://colab.research.google.com/github/chuxyno/School/blob/main/Clock_speed.ipynb\" target=\"_parent\"><img src=\"https://colab.research.google.com/assets/colab-badge.svg\" alt=\"Open In Colab\"/></a>"
      ]
    },
    {
      "cell_type": "code",
      "execution_count": 1,
      "metadata": {
        "colab": {
          "base_uri": "https://localhost:8080/"
        },
        "id": "CaYUT7MGI87N",
        "outputId": "40d57250-6544-46c5-9f28-04182803e86a"
      },
      "outputs": [
        {
          "output_type": "stream",
          "name": "stdout",
          "text": [
            "[1] 2.175\n",
            "[1] 0.5210061\n",
            "[1] 20\n"
          ]
        }
      ],
      "source": [
        "clock_speeds <- c(2.5, 1.7, 2.9, 2.7, 1.4, 1.9, 1.3, 1.9, 2.8, 2.2, 2.4, 1.7, 1.8, 2.2, 2.2, 1.9, 2.7, 3.3, 1.9, 2.1) \n",
        "mean_clock_speed <- mean(clock_speeds) \n",
        "\n",
        "sd_clock_speed <- sd(clock_speeds) \n",
        "\n",
        "n <- length(clock_speeds)  \n",
        "\n",
        "# Print the results \n",
        "\n",
        "print(mean_clock_speed) \n",
        "\n",
        "print(sd_clock_speed) \n",
        "\n",
        "print(n) "
      ]
    },
    {
      "cell_type": "code",
      "source": [
        "#Code to get p value using R \n",
        "\n",
        "#t = 0.64378 \n",
        "#df = 19 \n",
        "#find both LEFT and RIGHT TAILS \n",
        "\n",
        "pval_L <- pt(q= -0.64378, df=19,lower.tail = TRUE) \n",
        "\n",
        "pval_L \n",
        "\n",
        "pval_R <- pt(q= 0.64378, df=19,lower.tail = FALSE) \n",
        "\n",
        "pval_R "
      ],
      "metadata": {
        "colab": {
          "base_uri": "https://localhost:8080/",
          "height": 52
        },
        "id": "1GOYjf5SJbYu",
        "outputId": "f27aa522-dc69-4274-a3de-714fac11f02c"
      },
      "execution_count": 3,
      "outputs": [
        {
          "output_type": "display_data",
          "data": {
            "text/html": [
              "0.263706720063682"
            ],
            "text/markdown": "0.263706720063682",
            "text/latex": "0.263706720063682",
            "text/plain": [
              "[1] 0.2637067"
            ]
          },
          "metadata": {}
        },
        {
          "output_type": "display_data",
          "data": {
            "text/html": [
              "0.263706720063682"
            ],
            "text/markdown": "0.263706720063682",
            "text/latex": "0.263706720063682",
            "text/plain": [
              "[1] 0.2637067"
            ]
          },
          "metadata": {}
        }
      ]
    }
  ]
}