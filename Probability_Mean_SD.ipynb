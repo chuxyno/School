{
  "nbformat": 4,
  "nbformat_minor": 0,
  "metadata": {
    "colab": {
      "provenance": [],
      "authorship_tag": "ABX9TyPSqCtv68Jel6IIRjUTX4zK",
      "include_colab_link": true
    },
    "kernelspec": {
      "name": "ir",
      "display_name": "R"
    },
    "language_info": {
      "name": "R"
    }
  },
  "cells": [
    {
      "cell_type": "markdown",
      "metadata": {
        "id": "view-in-github",
        "colab_type": "text"
      },
      "source": [
        "<a href=\"https://colab.research.google.com/github/chuxyno/School/blob/main/Probability_Mean_SD.ipynb\" target=\"_parent\"><img src=\"https://colab.research.google.com/assets/colab-badge.svg\" alt=\"Open In Colab\"/></a>"
      ]
    },
    {
      "cell_type": "code",
      "execution_count": 1,
      "metadata": {
        "colab": {
          "base_uri": "https://localhost:8080/"
        },
        "id": "ejeQfIXOKFeU",
        "outputId": "1f8bb5d5-554e-44a1-82dd-e047bc1b2f30"
      },
      "outputs": [
        {
          "output_type": "stream",
          "name": "stdout",
          "text": [
            "[1] 0.2419637\n"
          ]
        }
      ],
      "source": [
        "# Set the mean and standard deviation of the normal distribution \n",
        "\n",
        "mu <- 1.9 \n",
        "sigma <- 2   \n",
        "\n",
        "# Calculate the probability that X is less than 0.5 \n",
        "\n",
        "prob <- pnorm(0.5, mu, sigma) \n",
        "\n",
        "# Print the result \n",
        "print(prob) "
      ]
    }
  ]
}