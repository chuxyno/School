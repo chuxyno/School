{
  "nbformat": 4,
  "nbformat_minor": 0,
  "metadata": {
    "colab": {
      "provenance": [],
      "authorship_tag": "ABX9TyOJ2BKngd3Ko6JknVd+e2iQ",
      "include_colab_link": true
    },
    "kernelspec": {
      "name": "ir",
      "display_name": "R"
    },
    "language_info": {
      "name": "R"
    }
  },
  "cells": [
    {
      "cell_type": "markdown",
      "metadata": {
        "id": "view-in-github",
        "colab_type": "text"
      },
      "source": [
        "<a href=\"https://colab.research.google.com/github/chuxyno/School/blob/main/BoxOffice.ipynb\" target=\"_parent\"><img src=\"https://colab.research.google.com/assets/colab-badge.svg\" alt=\"Open In Colab\"/></a>"
      ]
    },
    {
      "cell_type": "code",
      "execution_count": 12,
      "metadata": {
        "id": "gp9PkpG7U0B7"
      },
      "outputs": [],
      "source": [
        "box_office <- read.csv(\"boxOffice.csv\") "
      ]
    },
    {
      "cell_type": "code",
      "source": [
        "summary(box_office)"
      ],
      "metadata": {
        "colab": {
          "base_uri": "https://localhost:8080/",
          "height": 260
        },
        "id": "vFLhpoDQXhgJ",
        "outputId": "939e4417-29da-49b7-d13a-9b1220aae61c"
      },
      "execution_count": 14,
      "outputs": [
        {
          "output_type": "display_data",
          "data": {
            "text/plain": [
              "     Oscar          BoxOffice          Budget         Country         \n",
              " Min.   :0.0000   Min.   :  7.89   Min.   : 13.71   Length:300        \n",
              " 1st Qu.:0.0000   1st Qu.: 43.58   1st Qu.: 26.45   Class :character  \n",
              " Median :0.0000   Median : 69.33   Median : 35.23   Mode  :character  \n",
              " Mean   :0.3167   Mean   : 83.11   Mean   : 54.24                     \n",
              " 3rd Qu.:1.0000   3rd Qu.:110.62   3rd Qu.: 86.86                     \n",
              " Max.   :1.0000   Max.   :444.68   Max.   :127.39                     \n",
              "    Critics          Length     \n",
              " Min.   :10.00   Min.   : 67.0  \n",
              " 1st Qu.:29.38   1st Qu.: 84.0  \n",
              " Median :46.45   Median : 98.0  \n",
              " Mean   :47.38   Mean   :106.4  \n",
              " 3rd Qu.:63.88   3rd Qu.:126.2  \n",
              " Max.   :99.80   Max.   :178.0  "
            ]
          },
          "metadata": {}
        }
      ]
    },
    {
      "cell_type": "code",
      "source": [
        "#make this example reproducible\n",
        "set.seed(1)\n",
        "\n",
        "#Use 70% of dataset as training set and remaining 30% as testing set\n",
        "sample <- sample(c(TRUE, FALSE), nrow(box_office), replace=TRUE, prob=c(0.7,0.3))\n",
        "train <- box_office[sample, ]\n",
        "test <- box_office[!sample, ]  "
      ],
      "metadata": {
        "id": "Te1Dc1yBXTr7"
      },
      "execution_count": 15,
      "outputs": []
    },
    {
      "cell_type": "code",
      "source": [
        "#fit logistic regression model\n",
        "model <- glm(Oscar~Budget, family=\"binomial\", data=train)\n",
        "\n",
        "#disable scientific notation for model summary\n",
        "options(scipen=999)\n",
        "\n",
        "#view model summary\n",
        "summary(model)"
      ],
      "metadata": {
        "colab": {
          "base_uri": "https://localhost:8080/",
          "height": 399
        },
        "id": "AIgyrMJ-XyQB",
        "outputId": "c9a590ad-13b6-4f7b-b81a-2758c7b08b85"
      },
      "execution_count": 18,
      "outputs": [
        {
          "output_type": "display_data",
          "data": {
            "text/plain": [
              "\n",
              "Call:\n",
              "glm(formula = Oscar ~ Budget, family = \"binomial\", data = train)\n",
              "\n",
              "Deviance Residuals: \n",
              "    Min       1Q   Median       3Q      Max  \n",
              "-0.9149  -0.8956  -0.8294   1.4833   1.6329  \n",
              "\n",
              "Coefficients:\n",
              "             Estimate Std. Error z value Pr(>|z|)  \n",
              "(Intercept) -0.609641   0.272229  -2.239   0.0251 *\n",
              "Budget      -0.003278   0.004363  -0.751   0.4524  \n",
              "---\n",
              "Signif. codes:  0 ‘***’ 0.001 ‘**’ 0.01 ‘*’ 0.05 ‘.’ 0.1 ‘ ’ 1\n",
              "\n",
              "(Dispersion parameter for binomial family taken to be 1)\n",
              "\n",
              "    Null deviance: 269.85  on 216  degrees of freedom\n",
              "Residual deviance: 269.28  on 215  degrees of freedom\n",
              "AIC: 273.28\n",
              "\n",
              "Number of Fisher Scoring iterations: 4\n"
            ]
          },
          "metadata": {}
        }
      ]
    }
  ]
}