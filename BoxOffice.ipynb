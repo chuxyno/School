{
  "nbformat": 4,
  "nbformat_minor": 0,
  "metadata": {
    "colab": {
      "provenance": [],
      "authorship_tag": "ABX9TyMJkQU/rjRDO3iA/Ik1w+XC",
      "include_colab_link": true
    },
    "kernelspec": {
      "name": "ir",
      "display_name": "R"
    },
    "language_info": {
      "name": "R"
    }
  },
  "cells": [
    {
      "cell_type": "markdown",
      "metadata": {
        "id": "view-in-github",
        "colab_type": "text"
      },
      "source": [
        "<a href=\"https://colab.research.google.com/github/chuxyno/School/blob/main/BoxOffice.ipynb\" target=\"_parent\"><img src=\"https://colab.research.google.com/assets/colab-badge.svg\" alt=\"Open In Colab\"/></a>"
      ]
    },
    {
      "cell_type": "code",
      "execution_count": 12,
      "metadata": {
        "id": "gp9PkpG7U0B7"
      },
      "outputs": [],
      "source": [
        "box_office <- read.csv(\"boxOffice.csv\") \n",
        "#df <- pd.DataFrame(box_office)\n"
      ]
    },
    {
      "cell_type": "code",
      "source": [
        "oscar <- box_office$Oscar\n",
        "budget <- box_office$Budget\n",
        "country <- box_office$Country"
      ],
      "metadata": {
        "id": "_ay5x5xZVmI4"
      },
      "execution_count": 13,
      "outputs": []
    },
    {
      "cell_type": "code",
      "source": [
        "summary(box_office)"
      ],
      "metadata": {
        "colab": {
          "base_uri": "https://localhost:8080/",
          "height": 260
        },
        "id": "vFLhpoDQXhgJ",
        "outputId": "939e4417-29da-49b7-d13a-9b1220aae61c"
      },
      "execution_count": 14,
      "outputs": [
        {
          "output_type": "display_data",
          "data": {
            "text/plain": [
              "     Oscar          BoxOffice          Budget         Country         \n",
              " Min.   :0.0000   Min.   :  7.89   Min.   : 13.71   Length:300        \n",
              " 1st Qu.:0.0000   1st Qu.: 43.58   1st Qu.: 26.45   Class :character  \n",
              " Median :0.0000   Median : 69.33   Median : 35.23   Mode  :character  \n",
              " Mean   :0.3167   Mean   : 83.11   Mean   : 54.24                     \n",
              " 3rd Qu.:1.0000   3rd Qu.:110.62   3rd Qu.: 86.86                     \n",
              " Max.   :1.0000   Max.   :444.68   Max.   :127.39                     \n",
              "    Critics          Length     \n",
              " Min.   :10.00   Min.   : 67.0  \n",
              " 1st Qu.:29.38   1st Qu.: 84.0  \n",
              " Median :46.45   Median : 98.0  \n",
              " Mean   :47.38   Mean   :106.4  \n",
              " 3rd Qu.:63.88   3rd Qu.:126.2  \n",
              " Max.   :99.80   Max.   :178.0  "
            ]
          },
          "metadata": {}
        }
      ]
    },
    {
      "cell_type": "code",
      "source": [
        "#make this example reproducible\n",
        "set.seed(1)\n",
        "\n",
        "#Use 70% of dataset as training set and remaining 30% as testing set\n",
        "sample <- sample(c(TRUE, FALSE), nrow(box_office), replace=TRUE, prob=c(0.7,0.3))\n",
        "train <- box_office[sample, ]\n",
        "test <- box_office[!sample, ]  "
      ],
      "metadata": {
        "id": "Te1Dc1yBXTr7"
      },
      "execution_count": 15,
      "outputs": []
    },
    {
      "cell_type": "code",
      "source": [
        "#fit logistic regression model\n",
        "model <- glm(Oscar~BoxOffice+Budget+Country+Critics+Length, family=\"binomial\", data=train)\n",
        "\n",
        "#disable scientific notation for model summary\n",
        "options(scipen=999)\n",
        "\n",
        "#view model summary\n",
        "summary(model)"
      ],
      "metadata": {
        "colab": {
          "base_uri": "https://localhost:8080/",
          "height": 538
        },
        "id": "AIgyrMJ-XyQB",
        "outputId": "4bca0006-7cc3-4be3-f642-965af4cd8b10"
      },
      "execution_count": 17,
      "outputs": [
        {
          "output_type": "display_data",
          "data": {
            "text/plain": [
              "\n",
              "Call:\n",
              "glm(formula = Oscar ~ BoxOffice + Budget + Country + Critics + \n",
              "    Length, family = \"binomial\", data = train)\n",
              "\n",
              "Deviance Residuals: \n",
              "    Min       1Q   Median       3Q      Max  \n",
              "-1.9564  -0.7892  -0.5091   0.9903   2.5663  \n",
              "\n",
              "Coefficients:\n",
              "               Estimate Std. Error z value  Pr(>|z|)    \n",
              "(Intercept)   -7.629800   1.944193  -3.924 0.0000869 ***\n",
              "BoxOffice      0.018399   0.004205   4.376 0.0000121 ***\n",
              "Budget         0.016494   0.020333   0.811    0.4172    \n",
              "CountryEurope  1.321174   1.746110   0.757    0.4493    \n",
              "CountryIndia   0.243014   2.338627   0.104    0.9172    \n",
              "CountryOther   2.095608   1.975725   1.061    0.2888    \n",
              "CountryUK      2.942027   1.486834   1.979    0.0478 *  \n",
              "Critics        0.004511   0.009010   0.501    0.6166    \n",
              "Length         0.028730   0.017283   1.662    0.0964 .  \n",
              "---\n",
              "Signif. codes:  0 ‘***’ 0.001 ‘**’ 0.01 ‘*’ 0.05 ‘.’ 0.1 ‘ ’ 1\n",
              "\n",
              "(Dispersion parameter for binomial family taken to be 1)\n",
              "\n",
              "    Null deviance: 269.85  on 216  degrees of freedom\n",
              "Residual deviance: 225.45  on 208  degrees of freedom\n",
              "AIC: 243.45\n",
              "\n",
              "Number of Fisher Scoring iterations: 4\n"
            ]
          },
          "metadata": {}
        }
      ]
    }
  ]
}